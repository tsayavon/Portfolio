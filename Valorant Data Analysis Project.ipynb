{
  "cells": [
    {
      "cell_type": "markdown",
      "metadata": {
        "id": "G1PEytG1nMlq"
      },
      "source": [
        "<h1 style=\"color:#ff4654;font-size:80px;\"><strong>Valorant <strong style=\"color:black\">Data Analysis</strong></strong></h1>"
      ]
    },
    {
      "cell_type": "code",
      "execution_count": null,
      "metadata": {
        "_kg_hide-input": true,
        "_kg_hide-output": true,
        "execution": {
          "iopub.execute_input": "2021-10-27T15:26:49.364195Z",
          "iopub.status.busy": "2021-10-27T15:26:49.363784Z",
          "iopub.status.idle": "2021-10-27T15:26:49.379956Z",
          "shell.execute_reply": "2021-10-27T15:26:49.379257Z",
          "shell.execute_reply.started": "2021-10-27T15:26:49.364079Z"
        },
        "trusted": true,
        "id": "-yiEidNAnMlu"
      },
      "outputs": [],
      "source": [
        "# Importing the necessary packages (Hidden Input/Output)\n",
        "import gc\n",
        "import numpy as np\n",
        "import pandas as pd\n",
        "\n",
        "# Visualization packages\n",
        "import matplotlib.pyplot as plt\n",
        "import matplotlib.font_manager as fm\n",
        "from matplotlib.offsetbox import TextArea, DrawingArea, OffsetImage, AnnotationBbox\n",
        "import matplotlib.image as mpimg\n",
        "%matplotlib inline\n",
        "\n",
        "# To Ignore any warnings\n",
        "import warnings\n",
        "warnings.filterwarnings('ignore')"
      ]
    },
    {
      "cell_type": "markdown",
      "metadata": {
        "id": "AZJRlpX1nMlw"
      },
      "source": [
        "<h1 style=\"color:#ff4654;font-size:60px;\"><strong>About</strong> <strong style=\"color:black\">Valorant: </strong></h1> \n",
        "\n",
        "<p style=\"font-size:120%\">Valorant is a <strong>free-to-play first-person hero shooter developed and published by Riot Games</strong>, for Microsoft Windows. First teased under the codename Project A in October 2019, the game began a closed beta period with limited access on April 7, 2020, followed by an official release on June 2, 2020. The development of the game started in 2014.</p>\n",
        "\n",
        "<img src=\"https://c.tenor.com/eU8QK78ETZ4AAAAC/valorant-yoru.gif\" style=\"width:100%\"></img>\n",
        "\n",
        "<h1 style=\"color:#ff4654;font-size:60px;\"><strong>Valorant</strong> <strong style=\"color:black\">Gameplay: </strong></h1> \n",
        "\n",
        "<p style=\"font-size:120%\">Valorant is a team-based first-person hero shooter set in the near future. Players play as one of a set of agents, characters designed based on several countries and cultures around the world. In the main game mode, <mark>players are assigned to either the <strong>attacking or defending team</strong> with each team having <strong>five players</strong> on it.</mark> Agents have <strong>unique abilities</strong>, each requiring charges, as well as a unique ultimate ability that requires charging through kills, deaths, orbs, or spike actions. Every player starts each round with a \"classic\" pistol and one or more \"signature ability\" charges. <mark>Other weapons and ability charges can be purchased using an in-game economic system that awards money based on the outcome of the previous round, any kills the player is responsible for, and any actions taken with the spike</mark>. The game has an assortment of weapons including secondary guns like sidearms and primary guns like submachine guns, shotguns, machine guns, assault rifles and sniper rifles. There are automatic and semi-automatic weapons that each have a unique shooting pattern that has to be controlled by the player to be able to shoot accurately. Different agents allow players to find more ways to plant the Spike and style on enemies with scrappers, strategists, and hunters of every description. It currently offers 16 agents to choose from. They are Brimstone, Viper, Omen, Cypher, Sova, Sage, Phoenix, Jett, Raze, Breach, Reyna, Killjoy, Skye, Yoru, Astra, and KAY/O.</p>\n",
        "\n",
        "<img src=\"https://thumbs.gfycat.com/FeminineHardtofindGuernseycow-size_restricted.gif\" style=\"width:100%\"></img>\n",
        "\n",
        "<p style=\"font-size:120%\">In the standard non-ranked mode also known as \"Un-rated\", <mark>the match is played as <strong>best of 25</strong> - the first team to win 13 rounds wins the match</mark>. The attacking team has a bomb-type device called the Spike. They must deliver and activate the Spike on one of the multiple specified locations (bomb sites). If the attacking team successfully protects the activated Spike for 45 seconds it detonates, destroying everything in a specific area, and they receive a point. If the defending team can deactivate the spike, or the 100-second round timer expires without the attacking team activating the spike, the defending team receives a point. If all the members of a team are eliminated before the spike is activated, or if all members of the defending team are eliminated after the spike is activated, the opposing team earns a point. If both teams win 12 rounds, sudden death occurs, in which the winning team of that round wins the match, differing from overtime for competitive matches. Additionally, if after 4 rounds, a team wishes to forfeit that match, they may request a vote to surrender. If the vote is unanimous, the winning team gets all the victory credit for every round needed to bring them to 13, with the forfeiting team receiving losing credit. A team gets only two chances to surrender: one as the attackers and the other as the defenders. (Source: <a href=\"https://en.wikipedia.org/wiki/Valorant\" style=\"text-decoration:none\">Wikipedia</a>)</p>"
      ]
    },
    {
      "cell_type": "markdown",
      "metadata": {
        "id": "HSsEP1aKnMl0"
      },
      "source": [
        "<h1 style=\"color:#ff4654;font-size:60px;\"><strong>Our</strong> <strong style=\"color:black\">Objective:</strong></h1>\n",
        "\n",
        "<p style=\"font-size:200%\">Can we construct a <strong>team of top 5 Agents?</strong> The team should consist <strong>atleast one Agent from each category</strong>: Initiator, Duelist, Sentinel and Controller.</p> "
      ]
    },
    {
      "cell_type": "markdown",
      "metadata": {
        "id": "VvR6za7mnMl0"
      },
      "source": [
        "<h1 style=\"color:#ff4654;font-size:60px;\"><strong>Agent</strong> <strong style=\"color:black\">Data:</strong></h1>"
      ]
    },
    {
      "cell_type": "code",
      "execution_count": null,
      "metadata": {
        "_kg_hide-input": true,
        "execution": {
          "iopub.execute_input": "2021-10-27T15:26:49.382965Z",
          "iopub.status.busy": "2021-10-27T15:26:49.382161Z",
          "iopub.status.idle": "2021-10-27T15:26:49.457724Z",
          "shell.execute_reply": "2021-10-27T15:26:49.457057Z",
          "shell.execute_reply.started": "2021-10-27T15:26:49.382921Z"
        },
        "trusted": true,
        "id": "bTfU0dz3nMl1"
      },
      "outputs": [],
      "source": [
        "# Reading the Agent Dataframe (Hidden Input)\n",
        "agent = pd.read_csv('../input/valorant-statistics/ValorantData.csv')\n",
        "agent = agent.iloc[:,1:] # Removing the Rank column. It is not useful for our analysis\n",
        "agent.head().style.set_properties(**{\"background-color\": \"#ff4654\",\"color\": \"black\",\"border-color\": \"black\"})"
      ]
    },
    {
      "cell_type": "markdown",
      "metadata": {
        "id": "HYFTALwSnMl1"
      },
      "source": [
        "<p style=\"font-size:120%\">In this game, the player can choose from <strong>16 characters</strong>. These characters are broadly divided into <strong>4 categories: Duelists, Sentinel, Initiator and Controller.</strong></p>\n",
        "\n",
        "<p style=\"font-size:120%\"><strong>Duelists:</strong> Specialize in attacking and entering a bomb site for the team.</p>\n",
        "<p style=\"font-size:120%\"><strong>Sentinel:</strong> Are the defensive line, which specializes in locking down sites and protecting teammates from enemies.</p>\n",
        "<p style=\"font-size:120%\"><strong>Initiator:</strong> Plan out the offensive pushes. Initiators specialize in breaking through defensive enemy positions.</p>\n",
        "<p style=\"font-size:120%\"><strong>Controller:</strong> Specialize in \"slicing up dangerous territory to set their team up for success.\" They use their abilities to create coverage or clear out areas of space with crowd control.</p>"
      ]
    },
    {
      "cell_type": "markdown",
      "metadata": {
        "id": "BSnW7vannMl2"
      },
      "source": [
        "<h1 style=\"color:#ff4654;font-size:40px;\"><strong>Let's look at some Agents</strong></h1>"
      ]
    },
    {
      "cell_type": "markdown",
      "metadata": {
        "id": "VB9Pz_R4nMl2"
      },
      "source": [
        "![ValAgents](https://s3.us-east-1.amazonaws.com/dexerto-assets-production-cbbdf288/uploads/2020/06/02133540/valorant-agents-roles.jpg)"
      ]
    },
    {
      "cell_type": "markdown",
      "metadata": {
        "id": "X98hVlLMnMl3"
      },
      "source": [
        "<p style=\"font-size:120%\">Now, these are only a few of the <strong>16 Agents</strong> that we have in the game right now.</p>\n",
        "<p style=\"font-size:120%\">Personally, <mark>my favourite Agents are <strong>Raze and Cypher</strong>.😁</mark></p>"
      ]
    },
    {
      "cell_type": "markdown",
      "metadata": {
        "id": "3upgPmFDnMl4"
      },
      "source": [
        "<h1 style=\"color:#ff4654;font-size:60px;\"><strong>Top 5 Agents</strong> <strong style=\"color:black\">Win Rate:</strong></h1>"
      ]
    },
    {
      "cell_type": "code",
      "execution_count": null,
      "metadata": {
        "_kg_hide-input": true,
        "execution": {
          "iopub.execute_input": "2021-10-27T15:26:49.459189Z",
          "iopub.status.busy": "2021-10-27T15:26:49.458726Z",
          "iopub.status.idle": "2021-10-27T15:26:55.712722Z",
          "shell.execute_reply": "2021-10-27T15:26:55.711812Z",
          "shell.execute_reply.started": "2021-10-27T15:26:49.459157Z"
        },
        "trusted": true,
        "id": "Wnz8CFSrnMl4"
      },
      "outputs": [],
      "source": [
        "# Getting the Agents with top win rate: (Hidden Input)\n",
        "# top_win_rate = agent[['Agent','Win%']].sort_values(ascending=False, by='Win%')\n",
        "\n",
        "fig, ax = plt.subplots(figsize=(25,10), facecolor=\"w\")\n",
        "\n",
        "# Method for image\n",
        "def make_img(img,zoom, x, y):\n",
        "    img = mpimg.imread(img)\n",
        "    imagebox = OffsetImage(img, zoom=zoom)\n",
        "    ab = AnnotationBbox(imagebox, (x,y),frameon=False)\n",
        "    ax.add_artist(ab)\n",
        "\n",
        "# My Images\n",
        "img_file1 = \"https://static.wikia.nocookie.net/valorant/images/1/15/Killjoy_icon.png/revision/latest/scale-to-width-down/200?cb=20200805002141\"\n",
        "img_file2 = \"https://static.wikia.nocookie.net/valorant/images/b/b0/Reyna_icon.png/revision/latest/scale-to-width-down/100?cb=20200607180311\"\n",
        "img_file3 = \"https://static.wikia.nocookie.net/valorant/images/7/74/Sage_icon.png/revision/latest/scale-to-width-down/185?cb=20201128234057\"\n",
        "img_file4 = \"https://static.wikia.nocookie.net/valorant/images/3/35/Jett_icon.png/revision/latest/scale-to-width-down/185?cb=20201128234156\"\n",
        "img_file5 = \"https://static.wikia.nocookie.net/valorant/images/9/9c/Raze_icon.png/revision/latest/scale-to-width-down/185?cb=20201128234400\"\n",
        "crown_img = \"https://www.freeiconspng.com/thumbs/crown-icon/queen-crown-icon-4.png\"\n",
        "\n",
        "zoom = 1\n",
        "img_y= 4.8\n",
        "\n",
        "# I wanted to have the highest value in the middle, so i wrote the following two code lines\n",
        "agents = ['Jett','Sage','Killjoy','Reyna','Raze']   #new_df.index\n",
        "win_rate = [50,50.9,52.2,51.1,50.4]   #list(new_df.Q1.values)\n",
        "\n",
        "color = ['#ff4654', '#E6E6E6','#ff4654','#E6E6E6','#ff4654'] # Deciding the color\n",
        "width = [0.8, 0.9, 0.9, 0.9, 0.8] # The Width\n",
        "alpha = [0.6, 0.75, 1.0, 0.75, 0.6] # The Opacity\n",
        "\n",
        "fontsize= [20, 25, 35, 30, 20]\n",
        "x_num = [0,1,2,3,4]\n",
        "\n",
        "for i in range(5):\n",
        "    plt.bar(x=agents[i],height=win_rate[i], width=width[i], color=color[i], alpha=alpha[i])\n",
        "    plt.text(s=str(win_rate[i])+'%',x=x_num[i],y=win_rate[i],va='bottom',ha='center',font='Comic Sans MS',fontsize=fontsize[i], alpha=alpha[i])\n",
        "    plt.text(s=agents[i],x=x_num[i],y=win_rate[i]-15,va='bottom',ha='center',font='Comic Sans MS',fontsize=fontsize[i], alpha=alpha[i])\n",
        "    plt.text(s=\"Top 5 Agent (Win Rate)\",x=2,y=60,font='Comic Sans MS', fontsize=50,va='bottom',ha='center',color='#ff4654')\n",
        "\n",
        "# Placing the image\n",
        "make_img(img_file1,0.4, 2, 45.2)  # position: height minus 7\n",
        "make_img(img_file2,0.8, 3, 44.1) \n",
        "make_img(img_file3,0.45, 1, 43.9) \n",
        "make_img(img_file4,0.45, 0, 43)\n",
        "make_img(img_file5,0.45, 4, 43.4)\n",
        "make_img(crown_img,0.2, 2, 35.2)\n",
        "\n",
        "gc.collect() # For Memory Optimization\n",
        "\n",
        "plt.axis('off')\n",
        "plt.show()"
      ]
    },
    {
      "cell_type": "code",
      "execution_count": null,
      "metadata": {
        "_kg_hide-input": true,
        "execution": {
          "iopub.execute_input": "2021-10-27T15:26:55.714067Z",
          "iopub.status.busy": "2021-10-27T15:26:55.713829Z",
          "iopub.status.idle": "2021-10-27T15:26:55.972594Z",
          "shell.execute_reply": "2021-10-27T15:26:55.971651Z",
          "shell.execute_reply.started": "2021-10-27T15:26:55.714036Z"
        },
        "trusted": true,
        "id": "PWKrYBsinMl5"
      },
      "outputs": [],
      "source": [
        "# Checking the Win Rates for different Types (Hidden Input)\n",
        "df_win_rate = agent[['Win%','Type']]\n",
        "initiator_wrate = df_win_rate[df_win_rate['Type'] == 'Initiator'].sort_values(by='Win%')\n",
        "controller_wrate = df_win_rate[df_win_rate['Type'] == 'Controller'].sort_values(by='Win%')\n",
        "sentinel_wrate = df_win_rate[df_win_rate['Type'] == 'Sentinel'].sort_values(by='Win%')\n",
        "duelist_wrate = df_win_rate[df_win_rate['Type'] == 'Duelist'].sort_values(by='Win%')\n",
        "\n",
        "# Grouping to get the mean of \n",
        "grp_initiator = initiator_wrate.groupby(by=\"Type\").mean()\n",
        "grp_controller = controller_wrate.groupby(by=\"Type\").mean()\n",
        "grp_sentinel = sentinel_wrate.groupby(by=\"Type\").mean()\n",
        "grp_duelist = duelist_wrate.groupby(by=\"Type\").mean()\n",
        "\n",
        "type_lis = list(df_win_rate['Type'].unique())\n",
        "tot_win_lis = []\n",
        "\n",
        "for type_ in type_lis:\n",
        "    if type_ in \"Initiator\":\n",
        "        tot_win_lis.append(grp_initiator['Win%'][0])\n",
        "    if type_ in \"Sentinel\":\n",
        "        tot_win_lis.append(grp_sentinel['Win%'][0])\n",
        "    if type_ in \"Controller\":\n",
        "        tot_win_lis.append(grp_controller['Win%'][0])\n",
        "    if type_ in \"Duelist\":\n",
        "        tot_win_lis.append(grp_duelist['Win%'][0])\n",
        "        \n",
        "\n",
        "# Visualizing using Donut plot\n",
        "# colors\n",
        "colors = ['#E6E6E6', '#ff4654', '#FFFF00', \n",
        "          '#3281a8']\n",
        "# explosion\n",
        "explode = (0.05, 0.05, 0.2,0.5)\n",
        "  \n",
        "    \n",
        "plt.figure(figsize=[20,10])    \n",
        "\n",
        "# Pie Chart\n",
        "plt.pie(tot_win_lis, colors=colors,\n",
        "        autopct='%1.1f%%', pctdistance=1.2,\n",
        "        explode=explode, textprops={'fontsize': 18})\n",
        "  \n",
        "# draw circle\n",
        "centre_circle = plt.Circle((0, 0), 0.70, fc='white')\n",
        "fig = plt.gcf()\n",
        "\n",
        "plt.legend(type_lis, loc = \"center\",title=\"Type\", prop={'size': 15})\n",
        "     \n",
        "# Adding Circle in Pie chart\n",
        "fig.gca().add_artist(centre_circle)\n",
        "  \n",
        "plt.rcParams['font.size'] = 25    \n",
        "\n",
        "# Adding Title of chart\n",
        "plt.text(s=\"Average %Win Rate per Type\",x=0,y=1.3,font='Comic Sans MS', fontsize=50,va='bottom',ha='center',color='#ff4654')\n",
        "  \n",
        "gc.collect()    \n",
        "# Displaing Chart\n",
        "plt.show()"
      ]
    },
    {
      "cell_type": "markdown",
      "metadata": {
        "id": "tGRWeYMgnMl6"
      },
      "source": [
        "<h1 style=\"color:#ff4654;font-size:40px;\"><strong>\"Relax. I've already thought of everything\" <strong style=\"color:black\">- Killjoy </strong></strong></h1>\n",
        "\n",
        "<p style=\"font-size:120%\">In the current patch, two Sentinel Type heroes: <strong>Killjoy and Sage</strong> are among the top 3. <strong>Followed by 3 Duelists</strong>. This goes to show that, <mark>either Sage or Killjoy as a sentinel would be a better choice.</mark></p>\n",
        "\n",
        "<p style=\"font-size:120%\">Also, from the donut chart we can understand that <mark>the presence of <strong>Sentinels and Duelist</strong> do favor a win.</mark></p>\n",
        "\n",
        "<h1 style=\"color:#ff4654;font-size:40px;\"><strong>Killjoy's 1st Ability <strong style=\"color:black\">- Nanoswarm </strong></strong></h1>\n",
        "\n",
        "<p style=\"font-size:120%\"><strong>EQUIP</strong> a Nanoswarm grenade. <strong>FIRE</strong> to throw the grenade. <mark>Upon landing, the Nanoswarm goes covert. <strong>ACTIVATE</strong> the Nanoswarm to deploy a damaging swarm of nanobots.</mark></p>\n",
        "\n",
        "<img src=\"https://static-prod.weplay.tv/2020-08-10/8b1f3333c531da64f0adf1935b4726f7.5A4F49-D193DD-D0A892.gif\" style=\"width:100%"></img>\n",
        "\n",
        "<h1 style=\"color:#ff4654;font-size:40px;\"><strong>Killjoy's 2nd Ability <strong style=\"color:black\">- Alarmbot </strong></strong></h1>\n",
        "\n",
        "<p style=\"font-size:120%\"><strong>EQUIP</strong> a covert Alarmbot. <strong>FIRE</strong> to deploy <mark>a bot that hunts down enemies that get in range.</mark> After reaching its target, the bot explodes and applies Vulnerable to enemies in the area. <strong>HOLD EQUIP</strong> to recall a deployed bot.</p>\n",
        "\n",
        "<img src=\"https://static-prod.weplay.tv/2020-08-10/5b92ade20a67f0468a79db00d1678487.5C4F56-B99076-9A9CA4.gif\" style=\"width:100%\"></img>\n",
        "\n",
        "<h1 style=\"color:#ff4654;font-size:40px;\"><strong>Killjoy's 3rd Ability <strong style=\"color:black\">- Turret </strong></strong></h1>\n",
        "\n",
        "<p style=\"font-size:120%\"><strong>EQUIP</strong> a Turret. <strong>FIRE</strong> to deploy a <mark>turret that automatically fires at enemies in a 180 degree cone</mark>. <strong>HOLD EQUIP</strong> to recall the deployed turret.</p>\n",
        "\n",
        "<img src=\"https://static-prod.weplay.tv/2020-08-10/6eb8852cd5fcd1dd137e0fca98e353f2.5B4842-C3B091-6CC6D1.gif\" style=\"width:100%\"></img>\n",
        "\n",
        "<h1 style=\"color:#ff4654;font-size:40px;\"><strong>Killjoy's Ultimate <strong style=\"color:black\">- Lockdown </strong></strong></h1>\n",
        "\n",
        "<p style=\"font-size:120%\"><strong>EQUIP</strong> the Lockdown device. <strong>FIRE</strong> to deploy the device. After a long windup, the device <strong>Detains all enemies caught in the radius</strong>. The device can be destroyed by enemies.</p>\n",
        "\n",
        "<img src=\"https://bitmunchies.com/wp-content/uploads/2020/07/1595914024_662_New-Valorant-agent-Killjoy-abilities-revealed-through-leak.jpg\" style=\"width:100%\"></img>\n",
        "\n",
        "<p style=\"font-size:120%\">Killjoy's Ultimate ability <mark>can clear out an entire site of enemies.</mark> This is a <strong>very good crowd control technique</strong>. Also, her 3rd ability <strong>Turret can be used to guard corners</strong>. This allows Killjoy players to be very versatile.</p>\n",
        "\n",
        "<p style=\"font-size:120%\">Another good thing about Killjoy is that <strong>her alarmbot can notify her about any enemies.</strong></p>\n",
        "\n",
        "<p style=\"font-size:120%\"><mark>She can also activate her <strong>nanoswarms</strong> to kill enemies.</mark> And that makes Killjoy a very versatile Sentinel.</p>"
      ]
    },
    {
      "cell_type": "markdown",
      "metadata": {
        "id": "GSx9mHTwnMl6"
      },
      "source": [
        "<h1 style=\"color:#ff4654;font-size:60px;\"><strong>Top 10 Agents</strong> <strong style=\"color:black\">KD Ratio:</strong></h1>"
      ]
    },
    {
      "cell_type": "code",
      "execution_count": null,
      "metadata": {
        "_kg_hide-input": true,
        "execution": {
          "iopub.execute_input": "2021-10-27T16:18:52.280348Z",
          "iopub.status.busy": "2021-10-27T16:18:52.280062Z",
          "iopub.status.idle": "2021-10-27T16:18:52.819726Z",
          "shell.execute_reply": "2021-10-27T16:18:52.818938Z",
          "shell.execute_reply.started": "2021-10-27T16:18:52.280317Z"
        },
        "trusted": true,
        "id": "9Wbon_iBnMl7"
      },
      "outputs": [],
      "source": [
        "# Dataframe containing all the data  (Hidden Input)\n",
        "agent_kd = agent[['Agent','KD','Type']].sort_values(by='KD', ascending=False)\n",
        "agent_kd_10 = agent_kd.iloc[:10,:]\n",
        "agent_kd_10\n",
        "\n",
        "# This time, I will make a subplot\n",
        "plt.figure(figsize=[20,10])\n",
        "\n",
        "######################################## For the KD ratio ##########################################\n",
        "plt.subplot(1, 2, 1)\n",
        "\n",
        "s1 = list(agent_kd_10['Agent'])\n",
        "x1 = list(agent_kd_10['KD'])\n",
        "y1 = [0,1,2,3,4,5,6,7,8,9]\n",
        "\n",
        "plt.barh(width=x1, y=s1, height=0.7, color = ['#E6E6E6', '#E6E6E6', '#3281a8', '#E6E6E6','#E6E6E6','#ff4654','#3281a8','#ff4654'\n",
        "                                                    ,'#FFFF00','#E6E6E6'], alpha=0.8)\n",
        "\n",
        "for i in range(10):\n",
        "    plt.text(s = str(x1[i]), x=x1[i]-0.02, y=y1[i] ,font = 'Comic Sans MS', fontsize=12,va='center',ha='right',alpha=0.8)\n",
        "    plt.text(s = s1[i], x=x1[i]+0.15, y=y1[i] ,font = 'Comic Sans MS', fontsize=15,va='center',ha='right',alpha=0.8)\n",
        "\n",
        "plt.title(\"Top 10 Agent KD Ratio\", fontsize=50,va='bottom',ha='center',color='#ff4654')\n",
        "plt.axis('off')\n",
        "gc.collect()\n",
        "plt.gca().invert_yaxis()\n",
        "\n",
        "####################################################################################################\n",
        "######################################## For the KD ratio per type #################################\n",
        "plt.subplot(1, 2, 2)\n",
        "\n",
        "grp_kd = agent_kd_10[['KD','Type']].groupby('Type').count()\n",
        "\n",
        "# Visualizing using Donut plot\n",
        "# colors\n",
        "colors = ['#ff4654', '#E6E6E6', '#FFFF00',\n",
        "          '#3281a8']\n",
        "# explosion\n",
        "explode = (0.05, 0.05, 0.2,0.5)   \n",
        "\n",
        "# Pie Chart\n",
        "plt.pie(list(grp_kd['KD']), colors=colors,\n",
        "        autopct='%1.1f%%', pctdistance=1.2,\n",
        "        explode=explode, textprops={'fontsize': 18})\n",
        "  \n",
        "# draw circle\n",
        "centre_circle = plt.Circle((0, 0), 0.70, fc='white')\n",
        "fig = plt.gcf()\n",
        "\n",
        "plt.legend(list(grp_kd.index), loc = \"center\",title=\"Type\", prop={'size': 15})\n",
        "     \n",
        "# Adding Circle in Pie chart\n",
        "fig.gca().add_artist(centre_circle)\n",
        "  \n",
        "plt.rcParams['font.size'] = 25    \n",
        "\n",
        "# Adding Title of chart\n",
        "plt.text(s=\"KD per Type\",x=0,y=1.3,font='Comic Sans MS', fontsize=50,va='bottom',ha='center',color='#ff4654')\n",
        "  \n",
        "gc.collect()    \n",
        "# Displaing Chart\n",
        "plt.show()"
      ]
    },
    {
      "cell_type": "markdown",
      "metadata": {
        "id": "YbLEx6xgnMl7"
      },
      "source": [
        "\n",
        "\n",
        "\n",
        "\n",
        "<div class=\"row\" style=\"display: flex;\">\n",
        "  <div class=\"column\" style=\"flex: 33.33%;padding: 5px;\">\n",
        "    <img src=\"https://images.contentstack.io/v3/assets/bltb6530b271fddd0b1/bltceaa6cf20d328bd5/5eb7cdc1b1f2e27c950d2aaa/V_AGENTS_587x900_Jett.png\" style=\"width:80%\">\n",
        "  </div>\n",
        "  <div class=\"column\" style=\"flex: 33.33%;padding: 5px;\">\n",
        "    <img src=\"https://images.contentstack.io/v3/assets/bltb6530b271fddd0b1/blt6577b1f58530e6b2/5eb7cdc121a5027d77420208/V_AGENTS_587x900_Reyna.png\" style=\"width:80%\">\n",
        "  </div>\n",
        "  <div class=\"column\" style=\"flex: 33.33%;padding: 5px;\">\n",
        "    <img src=\"https://images.contentstack.io/v3/assets/bltb6530b271fddd0b1/blt5599d0d810824279/6036ca30ce4a0d12c3ec1dfa/V_AGENTS_587x900_Astra.png\" style=\"width:80%\">\n",
        "  </div>\n",
        "</div>\n",
        "\n",
        "\n",
        "<h1 style=\"color:#ff4654;font-size:40px;\"><strong>\"They will cower!\" <strong style=\"color:black\">- Reyna </strong></strong></h1>\n",
        "\n",
        "<p style=\"font-size:120%\"><strong>Reyna</strong> has abilities that <strong>allows her character to be played solo</strong>. She has many tools in her arsenel that help her take fights against many foes.</p>\n",
        "\n",
        "<p style=\"font-size:120%\">Her abilities include a <strong>Flash, which blinds the enemy</strong>. After killing her enemy, <mark>Reyna can choose to <strong>re-position</strong> herself with the enemy's soul/orb or <strong>heal</strong> herself.</mark></p>\n",
        "\n",
        "<p style=\"font-size:120%\">This way, <mark>she is able to take fights without depending much on her teammates.</mark></p>\n",
        "\n",
        "<h1 style=\"color:#ff4654;font-size:40px;\"><strong>\"Get out of my way!\"<strong style=\"color:black\">- Jett </strong></strong></h1>\n",
        "\n",
        "<img src=\"https://thumbs.gfycat.com/AgitatedSlimHoverfly-size_restricted.gif\" style=\"width:100%\"></img>\n",
        "\n",
        "<p style=\"font-size:120%\"><strong>Jett</strong> is another Duelist that <strong>is very very strong if played correctly</strong>. She can throw smokes to cover herself and blind her enemies.</p>\n",
        "\n",
        "<p style=\"font-size:120%\">She can <strong>dash, foward, backward, left or right to avoid being hit by another agent's ability or bullets</strong>. She can also use this ability to reposition herself.</p>\n",
        "\n",
        "<p style=\"font-size:120%\">She can <strong>glide for a short distances</strong> in the wind and get on top of structures by propelling herself using her wind ability. These make some amazing plays.</p>\n",
        "\n",
        "<p style=\"font-size:120%\">Her ultimate ability summons several <strong>throwing knives</strong> around her <mark>which she can shoot in burst or in single taps</mark>. They deal lethal damage to their opponents</p>\n",
        "\n",
        "<h1 style=\"color:#ff4654;font-size:40px;\"><strong>\"You are divided!\"<strong style=\"color:black\">- Astra </strong></strong></h1>\n",
        "\n",
        "<img src=\"https://c.tenor.com/t0U2Y-p-pngAAAAC/astra.gif\" style=\"width:100%\"></img>\n",
        "\n",
        "<p style=\"font-size:120%\"><strong>Astra</strong> is a Controller agent with a kit unlike any other in the game. <mark>Controlling the map with the stars from her Astral form, she rewards the players that take the time to plan out how they want their rounds to go before they even start.</mark> She’s a complement to any player that knows how to use their abilities with discipline. <strong>With two smokes, a stun, a gravity well and a map splitting ultimate</strong>, she will be a valuable member of any five stack.</p>\n",
        "\n",
        "<p style=\"font-size:120%\">Her kit is refreshing and features some of the <strong>most dynamic abilities in the game</strong>. Using stars that must be preselected on the map to activate her abilities, <mark>she is a big brain agent that only gets better as you understand more about her kit</mark>. While she has the ability to push, <mark>you want to <strong>play her slowly</strong> and have her be one of the last ones into a fight.</mark></p>"
      ]
    },
    {
      "cell_type": "markdown",
      "metadata": {
        "id": "iAeMqClhnMl8"
      },
      "source": [
        "<h1 style=\"color:#ff4654;text-align:center\"><strong>Work in Progress </strong></h1>\n",
        "<h2 style=\"color:#ff4654;text-align:center\"><strong>Thanks for Reading. </strong></h2>\n"
      ]
    }
  ],
  "metadata": {
    "kernelspec": {
      "display_name": "Python 3",
      "language": "python",
      "name": "python3"
    },
    "language_info": {
      "codemirror_mode": {
        "name": "ipython",
        "version": 3
      },
      "file_extension": ".py",
      "mimetype": "text/x-python",
      "name": "python",
      "nbconvert_exporter": "python",
      "pygments_lexer": "ipython3",
      "version": "3.6.4"
    },
    "colab": {
      "name": "notebook37fa87b1f7.ipynb",
      "provenance": []
    }
  },
  "nbformat": 4,
  "nbformat_minor": 0
}
